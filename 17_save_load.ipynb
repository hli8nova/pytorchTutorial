{
 "cells": [
  {
   "cell_type": "code",
   "execution_count": 1,
   "id": "11f64dfe-0028-4cee-b004-3350a7e61bf2",
   "metadata": {},
   "outputs": [],
   "source": [
    "import torch\n",
    "import torch.nn as nn\n"
   ]
  },
  {
   "cell_type": "code",
   "execution_count": 2,
   "id": "bbf3a9ba-96ca-43f3-8cdb-c8173aa0b5b3",
   "metadata": {},
   "outputs": [
    {
     "data": {
      "text/plain": [
       "' 2 DIFFERENT WAYS OF SAVING\\n# 1) lazy way: save whole model\\ntorch.save(model, PATH)\\n\\n# model class must be defined somewhere\\nmodel = torch.load(PATH)\\nmodel.eval()\\n\\n# 2) recommended way: save only the state_dict\\ntorch.save(model.state_dict(), PATH)\\n\\n# model must be created again with parameters\\nmodel = Model(*args, **kwargs)\\nmodel.load_state_dict(torch.load(PATH))\\nmodel.eval()\\n'"
      ]
     },
     "execution_count": 2,
     "metadata": {},
     "output_type": "execute_result"
    }
   ],
   "source": [
    "\n",
    "''' 3 DIFFERENT METHODS TO REMEMBER:\n",
    " - torch.save(arg, PATH) # can be model, tensor, or dictionary\n",
    " - torch.load(PATH)\n",
    " - torch.load_state_dict(arg)\n",
    "'''\n",
    "\n",
    "''' 2 DIFFERENT WAYS OF SAVING\n",
    "# 1) lazy way: save whole model\n",
    "torch.save(model, PATH)\n",
    "\n",
    "# model class must be defined somewhere\n",
    "model = torch.load(PATH)\n",
    "model.eval()\n",
    "\n",
    "# 2) recommended way: save only the state_dict\n",
    "torch.save(model.state_dict(), PATH)\n",
    "\n",
    "# model must be created again with parameters\n",
    "model = Model(*args, **kwargs)\n",
    "model.load_state_dict(torch.load(PATH))\n",
    "model.eval()\n",
    "'''"
   ]
  },
  {
   "cell_type": "code",
   "execution_count": 4,
   "id": "0b253764-e40e-454b-9d92-137773eb00c3",
   "metadata": {},
   "outputs": [],
   "source": [
    "class Model(nn.Module):\n",
    "    def __init__(self, n_input_features):\n",
    "        super(Model, self).__init__()\n",
    "        self.linear = nn.Linear(n_input_features, 1)\n",
    "\n",
    "    def forward(self, x):\n",
    "        y_pred = torch.sigmoid(self.linear(x))\n",
    "        return y_pred\n",
    "\n",
    "model = Model(n_input_features=6)\n",
    "# train your model..."
   ]
  },
  {
   "cell_type": "code",
   "execution_count": null,
   "id": "3aa23cdc-c68e-495b-b80e-d517295ab3ad",
   "metadata": {},
   "outputs": [],
   "source": [
    "####################save all ######################################\n",
    "for param in model.parameters():\n",
    "    print(param)\n",
    "\n",
    "# save and load entire model\n",
    "\n",
    "FILE = \"model.pth\"\n",
    "torch.save(model, FILE)\n",
    "\n",
    "loaded_model = torch.load(FILE)\n",
    "loaded_model.eval()\n",
    "\n",
    "for param in loaded_model.parameters():\n",
    "    print(param)\n",
    "\n"
   ]
  },
  {
   "cell_type": "code",
   "execution_count": 5,
   "id": "fdfc62ec-c0d0-43c3-b062-283c744db047",
   "metadata": {},
   "outputs": [
    {
     "name": "stdout",
     "output_type": "stream",
     "text": [
      "Parameter containing:\n",
      "tensor([[ 0.3136,  0.2932, -0.1534, -0.3211, -0.2253,  0.2945]],\n",
      "       requires_grad=True)\n",
      "Parameter containing:\n",
      "tensor([0.3702], requires_grad=True)\n",
      "Parameter containing:\n",
      "tensor([[ 0.3136,  0.2932, -0.1534, -0.3211, -0.2253,  0.2945]],\n",
      "       requires_grad=True)\n",
      "Parameter containing:\n",
      "tensor([0.3702], requires_grad=True)\n"
     ]
    }
   ],
   "source": [
    "####################save all ######################################\n",
    "for param in model.parameters():\n",
    "    print(param)\n",
    "\n",
    "# save and load entire model\n",
    "\n",
    "FILE = \"model.pth\"\n",
    "torch.save(model, FILE)\n",
    "\n",
    "loaded_model = torch.load(FILE)\n",
    "loaded_model.eval()\n",
    "\n",
    "for param in loaded_model.parameters():\n",
    "    print(param)\n",
    "\n"
   ]
  },
  {
   "cell_type": "code",
   "execution_count": 6,
   "id": "84c93691-d010-4912-8e24-467dfdf98d9e",
   "metadata": {},
   "outputs": [
    {
     "name": "stdout",
     "output_type": "stream",
     "text": [
      "OrderedDict([('linear.weight', tensor([[ 0.3136,  0.2932, -0.1534, -0.3211, -0.2253,  0.2945]])), ('linear.bias', tensor([0.3702]))])\n",
      "OrderedDict([('linear.weight', tensor([[ 0.3136,  0.2932, -0.1534, -0.3211, -0.2253,  0.2945]])), ('linear.bias', tensor([0.3702]))])\n"
     ]
    }
   ],
   "source": [
    "\n",
    "############save only state dict #########################\n",
    "\n",
    "# save only state dict\n",
    "FILE = \"model.pth\"\n",
    "torch.save(model.state_dict(), FILE)\n",
    "\n",
    "print(model.state_dict())\n",
    "loaded_model = Model(n_input_features=6)\n",
    "loaded_model.load_state_dict(torch.load(FILE)) # it takes the loaded dictionary, not the path file itself\n",
    "loaded_model.eval()\n",
    "\n",
    "print(loaded_model.state_dict())"
   ]
  },
  {
   "cell_type": "code",
   "execution_count": null,
   "id": "9083831d-b4ad-4a8e-be18-d1b23fe1cdb9",
   "metadata": {},
   "outputs": [],
   "source": []
  },
  {
   "cell_type": "code",
   "execution_count": null,
   "id": "9cdf2d57-4c82-4127-b832-317987875e30",
   "metadata": {},
   "outputs": [],
   "source": []
  },
  {
   "cell_type": "code",
   "execution_count": null,
   "id": "50cfd237-bc57-46a5-9ac8-dcc9f9174480",
   "metadata": {},
   "outputs": [],
   "source": [
    "\n",
    "\n",
    "\n",
    "###########load checkpoint#####################\n",
    "learning_rate = 0.01\n",
    "optimizer = torch.optim.SGD(model.parameters(), lr=learning_rate)\n",
    "\n",
    "checkpoint = {\n",
    "\"epoch\": 90,\n",
    "\"model_state\": model.state_dict(),\n",
    "\"optim_state\": optimizer.state_dict()\n",
    "}\n",
    "print(optimizer.state_dict())\n",
    "FILE = \"checkpoint.pth\"\n",
    "torch.save(checkpoint, FILE)\n",
    "\n",
    "model = Model(n_input_features=6)\n",
    "optimizer = optimizer = torch.optim.SGD(model.parameters(), lr=0)\n",
    "\n",
    "checkpoint = torch.load(FILE)\n",
    "model.load_state_dict(checkpoint['model_state'])\n",
    "optimizer.load_state_dict(checkpoint['optim_state'])\n",
    "epoch = checkpoint['epoch']\n",
    "\n",
    "model.eval()\n",
    "# - or -\n",
    "# model.train()\n",
    "\n",
    "print(optimizer.state_dict())\n",
    "\n",
    "# Remember that you must call model.eval() to set dropout and batch normalization layers \n",
    "# to evaluation mode before running inference. Failing to do this will yield \n",
    "# inconsistent inference results. If you wish to resuming training, \n",
    "# call model.train() to ensure these layers are in training mode.\n",
    "\n",
    "\"\"\" SAVING ON GPU/CPU \n",
    "\n",
    "# 1) Save on GPU, Load on CPU\n",
    "device = torch.device(\"cuda\")\n",
    "model.to(device)\n",
    "torch.save(model.state_dict(), PATH)\n",
    "\n",
    "device = torch.device('cpu')\n",
    "model = Model(*args, **kwargs)\n",
    "model.load_state_dict(torch.load(PATH, map_location=device))\n",
    "\n",
    "# 2) Save on GPU, Load on GPU\n",
    "device = torch.device(\"cuda\")\n",
    "model.to(device)\n",
    "torch.save(model.state_dict(), PATH)\n",
    "\n",
    "model = Model(*args, **kwargs)\n",
    "model.load_state_dict(torch.load(PATH))\n",
    "model.to(device)\n",
    "\n",
    "# Note: Be sure to use the .to(torch.device('cuda')) function \n",
    "# on all model inputs, too!\n",
    "\n",
    "# 3) Save on CPU, Load on GPU\n",
    "torch.save(model.state_dict(), PATH)\n",
    "\n",
    "device = torch.device(\"cuda\")\n",
    "model = Model(*args, **kwargs)\n",
    "model.load_state_dict(torch.load(PATH, map_location=\"cuda:0\"))  # Choose whatever GPU device number you want\n",
    "model.to(device)\n",
    "\n",
    "# This loads the model to a given GPU device. \n",
    "# Next, be sure to call model.to(torch.device('cuda')) to convert the model’s parameter tensors to CUDA tensors\n",
    "\"\"\"\n",
    "\n"
   ]
  }
 ],
 "metadata": {
  "kernelspec": {
   "display_name": "pyg2gpu:Python",
   "language": "python",
   "name": "conda-env-pyg2gpu-py"
  },
  "language_info": {
   "codemirror_mode": {
    "name": "ipython",
    "version": 3
   },
   "file_extension": ".py",
   "mimetype": "text/x-python",
   "name": "python",
   "nbconvert_exporter": "python",
   "pygments_lexer": "ipython3",
   "version": "3.9.10"
  }
 },
 "nbformat": 4,
 "nbformat_minor": 5
}
